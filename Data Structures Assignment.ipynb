{
 "cells": [
  {
   "cell_type": "markdown",
   "id": "33e298f4",
   "metadata": {},
   "source": [
    "# THEORY QUESTIONS\n",
    "\n",
    "Q1 : What are data structures, and why are they important?\n",
    "ANS :\n",
    "\n",
    "\n",
    "Data Structures are ways to organize, store, and manage data efficiently for easy access and modification.\n",
    "\n",
    "Importance of Data Structures:\n",
    "1)Efficient Data Management: Helps in organizing data for easy access and modification.\n",
    "2)Optimized Performance: Enhances the efficiency of algorithms in terms of time and space.\n",
    "3)Code Reusability: Enables the use of pre-defined structures like arrays, lists, stacks, and queues.\n",
    "4)Problem Solving: Essential for solving complex computational problems effectively.\n",
    "5)Data Organization: Helps in representing and processing real-world data logically.\n",
    "\n",
    "\n",
    "\n",
    "\n",
    "\n",
    "\n"
   ]
  },
  {
   "cell_type": "markdown",
   "id": "e4a8c9f1",
   "metadata": {},
   "source": [
    "Q2 : Explain the difference between mutable and immutable data types with examples ?\n",
    "    \n",
    "ANS :\n",
    "    Difference Between Mutable and Immutable Data Types in Python:\n",
    "\n",
    "Mutable Data Types:\n",
    "\n",
    "Can be changed after creation.\n",
    "Examples: list, dict, set, bytearray.\n",
    "Example:\n",
    "my_list = [1, 2, 3]  \n",
    "my_list[0] = 10  # Can be changed because it is mutable\n",
    "\n",
    "Immutable Data Types:\n",
    "Cannot be changed after creation.\n",
    "Examples: int, float, str, tuple, frozenset.\n",
    "Example:\n",
    "my_str = \"hello\"  \n",
    "my_str[0] = \"H\"  # Cannot be changed because they  are immutable "
   ]
  },
  {
   "cell_type": "markdown",
   "id": "b381110f",
   "metadata": {},
   "source": [
    "Q3 :  What are the main differences between lists and tuples in Python?\n",
    "\n",
    "ANS :\n",
    "    Mutability:\n",
    "\n",
    "List: Mutable (can be changed).\n",
    "Tuple: Immutable (cannot be changed after creation).\n",
    "Syntax:\n",
    "\n",
    "List: Defined using square brackets [] (e.g., [1, 2, 3]).\n",
    "Tuple: Defined using parentheses () (e.g., (1, 2, 3)).\n",
    "Performance:\n",
    "\n",
    "List: Slower due to dynamic nature.\n",
    "Tuple: Faster due to immutability.\n",
    "Memory Usage:\n",
    "\n",
    "List: Consumes more memory.\n",
    "Tuple: Consumes less memory.\n",
    "Methods:\n",
    "\n",
    "List: Has more built-in methods (like append(), remove()).\n",
    "Tuple: Fewer methods (like count(), index()).\n",
    "Use Cases:\n",
    "\n",
    "List: Suitable for data that may change.\n",
    "Tuple: Suitable for fixed data (like dictionary keys).\n",
    "\n",
    "\n",
    "\n",
    "\n",
    "\n",
    "\n",
    "\n",
    "\n",
    "\n",
    "\n",
    "\n",
    "\n",
    "\n"
   ]
  },
  {
   "cell_type": "markdown",
   "id": "c866cedc",
   "metadata": {},
   "source": [
    "Q4 : Describe how dictionaries store data ?\n",
    "ANS:\n",
    "\n",
    "Key-Value Pairs: Dictionaries store data as pairs of keys and their corresponding values.\n",
    "Hashing: Keys are hashed to determine their position in memory for fast access.\n",
    "Unique Keys: Each key in a dictionary is unique, but values can be duplicated.\n",
    "Insertion Order (Python ≥ 3.7): From Python 3.7 onwards, dictionaries maintain the order of item insertion.\n",
    "Mutable: Dictionaries can be modified by adding, updating, or deleting key-value pairs.\n",
    "Fast Access: Lookup, insertion, and deletion operations are generally fast (average O(1) time complexity)."
   ]
  },
  {
   "cell_type": "markdown",
   "id": "5b0cb454",
   "metadata": {},
   "source": [
    "Q5:  Why might you use a set instead of a list in Python?\n",
    "ANS:\n",
    "    \n",
    "1)Uniqueness: Sets automatically store unique elements (no duplicates).\n",
    "2)Faster Lookups: Sets offer O(1) average time complexity for membership tests, while lists have O(n).\n",
    "3)Efficient Operations: Sets support efficient mathematical operations like union, intersection, and difference.\n",
    "4)No Order: Sets are unordered, making them more efficient for certain tasks where order doesn't matter.\n",
    "5)Cleaner Code: Automatically handles duplicates, reducing the need for manual checks."
   ]
  },
  {
   "cell_type": "markdown",
   "id": "7ebceb93",
   "metadata": {},
   "source": [
    "Q6:  What is a string in Python, and how is it different from a list\n",
    "ANS :\n",
    "    \n",
    "    \n",
    "String:\n",
    "A sequence of characters enclosed in quotes (' ', \" \", or ''' ''').\n",
    "Immutable (cannot be changed after creation).\n",
    "Example: \"hello\"\n",
    "List:\n",
    "\n",
    "A collection of items (which can be of different types) enclosed in square brackets [ ].\n",
    "Mutable (can be changed after creation).\n",
    "Example: [1, \"hello\", 3.5]\n",
    "Key Differences:\n",
    "\n",
    "Mutability: Strings are immutable, lists are mutable.\n",
    "Data Type: Strings only hold characters, lists can hold multiple data types.\n",
    "Syntax: Strings use quotes, lists use square brackets.\n",
    "    "
   ]
  },
  {
   "cell_type": "markdown",
   "id": "afebb93f",
   "metadata": {},
   "source": [
    "Q7: How do tuples ensure data integrity in Python?\n",
    "ANS :\n",
    "    \n",
    "Tuples ensure data integrity in Python through the following ways:\n",
    "\n",
    "Immutability: Once created, the elements of a tuple cannot be changed, ensuring the data remains constant.\n",
    "Hashability: Tuples can be used as keys in dictionaries if they contain only hashable elements, enabling reliable data mapping.\n",
    "Data Safety: Prevents accidental modification of data, ensuring consistency throughout the program.\n",
    "Faster Performance: Due to immutability, tuples are faster and more memory-efficient compared to lists."
   ]
  },
  {
   "cell_type": "markdown",
   "id": "02e0d7a3",
   "metadata": {},
   "source": [
    "Q8 :  What is a hash table, and how does it relate to dictionaries in Python?\n",
    "ANS :\n",
    "    Hash Table: A data structure that stores key-value pairs, using a hash function to compute an index for efficient data retrieval.\n",
    "\n",
    "Relation to Python Dictionaries:\n",
    "\n",
    "Python's built-in dict is implemented using a hash table.\n",
    "Keys are hashed to determine where to store the corresponding value.\n",
    "Offers average O(1) time complexity for insert, delete, and lookup operations.\n",
    "Keys must be immutable and hashable (like strings, numbers, tuples)."
   ]
  },
  {
   "cell_type": "markdown",
   "id": "af5214ab",
   "metadata": {},
   "source": [
    "Q9 : Can lists contain different data types in Python?\n",
    "ANS :\n",
    "    Yes, Python lists can contain elements of different data types.\n",
    "A single list can include integers, floats, strings, booleans, objects, or even other lists.\n",
    "Example:\n",
    "python\n",
    "Copy\n",
    "Edit\n",
    "my_list = [1, \"hello\", 3.14, True, [2, 3]]\n",
    "\n",
    "\n",
    "\n",
    "\n",
    "\n",
    "\n",
    "\n",
    "    "
   ]
  },
  {
   "cell_type": "markdown",
   "id": "66721ff1",
   "metadata": {},
   "source": [
    "Q10 :  Explain why strings are immutable in Python?\n",
    "ANS :\n",
    "    Memory Efficiency: Immutable strings can be safely shared and reused, reducing memory usage.\n",
    "Hashability: Immutable objects can be used as keys in dictionaries or elements in sets.\n",
    "Security: Immutable strings prevent accidental or malicious changes, enhancing security.\n",
    "Thread-Safety: Immutable objects are inherently thread-safe, avoiding issues in concurrent programs.\n",
    "Consistency: Immutable behavior ensures that functions relying on strings don't face unexpected side effects."
   ]
  },
  {
   "cell_type": "markdown",
   "id": "19f186ba",
   "metadata": {},
   "source": [
    "Q11 :  What advantages do dictionaries offer over lists for certain tasks?\n",
    "ANS:\n",
    "\n",
    "Faster Lookups:\n",
    "\n",
    "Dictionaries provide O(1) average time complexity for lookups using keys, while lists require O(n) time for searches.\n",
    "Key-Value Pair Storage:\n",
    "\n",
    "Ideal for storing associated data (e.g., {‘name’: ‘Alice’, ‘age’: 25}) for quick retrieval.\n",
    "Data Uniqueness:\n",
    "\n",
    "Dictionary keys are unique, ensuring no duplicate entries for efficient data organization.\n",
    "Better Readability:\n",
    "\n",
    "Accessing data using keys (dict['name']) is more intuitive than using index positions in lists.\n",
    "Efficient Updates:\n",
    "\n",
    "Adding or updating key-value pairs is straightforward and faster than manipulating list elements.\n",
    "Dictionaries are preferred when fast lookups, uniqueness, and structured data storage are required."
   ]
  },
  {
   "cell_type": "markdown",
   "id": "2f9e2990",
   "metadata": {},
   "source": [
    "Q12:  Describe a scenario where using a tuple would be preferable over a list?\n",
    "ANS :\n",
    "\n",
    "Immutability Requirement: When data should not change, like storing fixed configurations (e.g., coordinates (x, y)).\n",
    "\n",
    "Dictionary Keys: Tuples are hashable and can be used as keys in dictionaries, unlike lists.\n",
    "\n",
    "Performance Optimization: Tuples are faster and more memory-efficient than lists, ideal for large, read-only datasets.\n",
    "\n",
    "Data Integrity: When you want to ensure data remains constant throughout the program, enhancing reliability.\n",
    "\n",
    "Function Returns: When returning multiple values that should remain unchanged, a tuple is more appropriate.\n",
    "\n",
    "These points ensure efficient, safe, and optimized Python code."
   ]
  },
  {
   "cell_type": "markdown",
   "id": "598b8528",
   "metadata": {},
   "source": [
    "Q13: How do sets handle duplicate values in Python?\n",
    "ANS :\n",
    "    Uniqueness: Sets only store unique elements. Any duplicate value added is automatically ignored.\n",
    "\n",
    "Unordered Collection: Sets are unordered, meaning element order is not preserved.\n",
    "\n",
    "Hashing Mechanism: Sets use hashing to ensure each element is unique, enabling fast lookups.\n",
    "\n",
    "Example:\n",
    "\n",
    "python\n",
    "Copy\n",
    "Edit\n",
    "s = {1, 2, 2, 3}  \n",
    "print(s)  # Output: {1, 2, 3}  \n",
    "This behavior ensures efficient data storage and quick membership testing."
   ]
  },
  {
   "cell_type": "markdown",
   "id": "2c087a68",
   "metadata": {},
   "source": [
    "Q14:  How does the “in” keyword work differently for lists and dictionaries?\n",
    "ANS:\n",
    "    For Lists:\n",
    "\n",
    "Checks for the presence of an element in the list.\n",
    "Example:\n",
    "python\n",
    "Copy\n",
    "Edit\n",
    "3 in [1, 2, 3]  # True  \n",
    "For Dictionaries:\n",
    "\n",
    "Checks for the presence of a key (not the value) in the dictionary.\n",
    "Example:\n",
    "python\n",
    "Copy\n",
    "Edit\n",
    "'a' in {'a': 1, 'b': 2}  # True  \n",
    "1 in {'a': 1, 'b': 2}    # False  \n",
    "Efficiency:\n",
    "\n",
    "Dictionary lookup with in is faster (O(1)) due to hashing.\n",
    "List lookup is slower (O(n)) because it requires linear search.\n",
    "This distinction is crucial for writing efficient and accurate code."
   ]
  },
  {
   "cell_type": "markdown",
   "id": "3117c0a1",
   "metadata": {},
   "source": [
    "Q15 : Can you modify the elements of a tuple? Explain why or why not?\n",
    "    ANS:\n",
    "        mmutability: Once a tuple is created, its elements cannot be changed, added, or removed.\n",
    "Reason: This design ensures data integrity, makes tuples hashable (usable as dictionary keys), and improves performance.\n",
    "Exception: If a tuple contains a mutable object (like a list), that object can be modified, but the tuple’s overall structure remains unchanged.\n",
    "This immutability makes tuples ideal for fixed data collections.\n",
    "        "
   ]
  },
  {
   "cell_type": "markdown",
   "id": "cc4a2268",
   "metadata": {},
   "source": [
    "Q16 :  What is a nested dictionary, and give an example of its use case?\n",
    "ANS:\n",
    "\n",
    "A nested dictionary in Python is a dictionary where values are also dictionaries, allowing hierarchical data representation.\n",
    "\n",
    "Use Case:\n",
    "Ideal for representing complex, structured data like JSON objects, databases, or configurations.\n",
    "Example:\n",
    "python\n",
    "Copy\n",
    "Edit\n",
    "student = {\n",
    "    \"name\": \"Alice\",\n",
    "    \"details\": {\n",
    "        \"age\": 22,\n",
    "        \"courses\": [\"Math\", \"Science\"],\n",
    "        \"grades\": {\"Math\": \"A\", \"Science\": \"B\"}\n",
    "    }\n",
    "}\n",
    "Here, details is a nested dictionary holding additional information.\n",
    "Useful for accessing structured data, like student['details']['grades']['Math'] to get the Math grade."
   ]
  },
  {
   "cell_type": "markdown",
   "id": "e7a914c8",
   "metadata": {},
   "source": [
    "Q17:  Describe the time complexity of accessing elements in a dictionary?\n",
    "ANS:\n",
    "\n",
    "The time complexity of accessing elements in a Python dictionary is:\n",
    "\n",
    "Average Case: O(1) (constant time) due to hashing, which allows direct access to values via keys.\n",
    "Worst Case: O(n) occurs rarely, in cases of hash collisions, where multiple keys map to the same hash bucket.\n",
    "Python Optimization: Python uses efficient hash tables to minimize collisions, ensuring fast access in most scenarios.\n",
    "This makes dictionaries highly efficient for lookups, insertions, and deletions."
   ]
  },
  {
   "cell_type": "markdown",
   "id": "33bce5a8",
   "metadata": {},
   "source": [
    "Q18 :  In what situations are lists preferred over dictionaries?\n",
    "ANS :\n",
    "    Lists are preferred over dictionaries in the following situations:\n",
    "\n",
    "Ordered Data: When maintaining the order of elements is important.\n",
    "Sequential Access: Ideal for iterating through elements in a sequence.\n",
    "Simple Data Storage: When storing non-keyed, homogeneous data like numbers or strings.\n",
    "Index-Based Access: When accessing elements by position/index is required.\n",
    "Memory Efficiency: Lists consume less memory compared to dictionaries for simple data.\n",
    "Sorting: Easier to sort data as lists are inherently ordered.\n",
    "In summary, use lists when you need an ordered, simple, and sequential collection without the need for key-value mapping."
   ]
  },
  {
   "cell_type": "markdown",
   "id": "c6176e69",
   "metadata": {},
   "source": [
    "Q19 :  Why are dictionaries considered unordered, and how does that affect data retrieval?\n",
    "ANS :\n",
    "    Dictionaries in Python were considered unordered (before Python 3.7) because they stored key-value pairs based on hashing, not insertion order.\n",
    "\n",
    "Impact on Data Retrieval:\n",
    "\n",
    "Retrieval is based on the key’s hash, ensuring O(1) average time complexity.\n",
    "The order of elements was unpredictable before Python 3.7.\n",
    "Python 3.7+ Update:\n",
    "\n",
    "Dictionaries now preserve insertion order, but this is a language feature, not a guarantee for ordering logic.\n",
    "Key Takeaway:\n",
    "\n",
    "Despite order preservation, dictionaries are optimized for fast retrieval, not for ordered data management. Use OrderedDict (from collections) if explicit order handling is required."
   ]
  },
  {
   "cell_type": "markdown",
   "id": "899a550a",
   "metadata": {},
   "source": [
    "Q20 :  Explain the difference between a list and a dictionary in terms of data retrieval?\n",
    "ANS:\n",
    "    Differences between List and Dictionary in Data Retrieval:\n",
    "\n",
    "Access Method:\n",
    "\n",
    "List: Access elements by index (e.g., list[0]).\n",
    "Dictionary: Access elements by key (e.g., dict['key']).\n",
    "Retrieval Speed:\n",
    "\n",
    "List: Slower for large datasets as it requires linear search (O(n)).\n",
    "Dictionary: Faster due to hashing mechanism, offering constant-time lookup (O(1)).\n",
    "Data Structure:\n",
    "\n",
    "List: Ordered collection of elements.\n",
    "Dictionary: Unordered collection of key-value pairs.\n",
    "Key Uniqueness:\n",
    "\n",
    "List: Allows duplicate elements.\n",
    "Dictionary: Keys must be unique.\n",
    "In summary, dictionaries provide faster and more efficient data retrieval when using unique keys.\n",
    "    "
   ]
  },
  {
   "cell_type": "markdown",
   "id": "47940347",
   "metadata": {},
   "source": [
    "# PRACTICAL QUESTIONS"
   ]
  },
  {
   "cell_type": "code",
   "execution_count": 3,
   "id": "f83c6136",
   "metadata": {},
   "outputs": [
    {
     "name": "stdout",
     "output_type": "stream",
     "text": [
      "Rishabh Singh\n"
     ]
    }
   ],
   "source": [
    "##Q1 : Write a code to create a string with your name and print it?\n",
    "name = \"Rishabh Singh\"\n",
    "print(name)"
   ]
  },
  {
   "cell_type": "code",
   "execution_count": 4,
   "id": "614d290e",
   "metadata": {},
   "outputs": [
    {
     "name": "stdout",
     "output_type": "stream",
     "text": [
      "11\n"
     ]
    }
   ],
   "source": [
    "## Q2 :  Write a code to find the length of the string \"Hello World\"\n",
    "str1 = \"Hello World\"\n",
    "print(len(str1))"
   ]
  },
  {
   "cell_type": "code",
   "execution_count": 7,
   "id": "d80c41fe",
   "metadata": {},
   "outputs": [
    {
     "name": "stdout",
     "output_type": "stream",
     "text": [
      "Pyt\n"
     ]
    }
   ],
   "source": [
    "##Q3 : Write a code to slice the first 3 characters from the string \"Python Programming\"\n",
    "a = \"Python Programming\"\n",
    "print(a[0:3])"
   ]
  },
  {
   "cell_type": "code",
   "execution_count": 10,
   "id": "1e695a41",
   "metadata": {},
   "outputs": [
    {
     "name": "stdout",
     "output_type": "stream",
     "text": [
      "HELLO\n"
     ]
    }
   ],
   "source": [
    "## Q4 :Write a code to convert the string \"hello\" to uppercase\n",
    "b = \"hello\"\n",
    "upper_case = b.upper()\n",
    "print(upper_case)"
   ]
  },
  {
   "cell_type": "code",
   "execution_count": 12,
   "id": "39423dbe",
   "metadata": {},
   "outputs": [
    {
     "name": "stdout",
     "output_type": "stream",
     "text": [
      "I like orange\n"
     ]
    }
   ],
   "source": [
    "##Q5: Write a code to replace the word \"apple\" with \"orange\" in the string \"I like apple\"\n",
    "a = \"I like apple\"\n",
    "replaced_word = a.replace(\"apple\",\"orange\")\n",
    "print(replaced_word)"
   ]
  },
  {
   "cell_type": "code",
   "execution_count": 19,
   "id": "c68702f4",
   "metadata": {},
   "outputs": [
    {
     "name": "stdout",
     "output_type": "stream",
     "text": [
      "[1, 2, 3, 4, 5]\n"
     ]
    }
   ],
   "source": [
    "## Q6 : Write a code to create a list with numbers 1 to 5 and print it\n",
    "lst = []\n",
    "lst.append(1)\n",
    "lst.append(2)\n",
    "lst.append(3)\n",
    "lst.append(4)\n",
    "lst.append(5)\n",
    "print(lst)"
   ]
  },
  {
   "cell_type": "code",
   "execution_count": 36,
   "id": "04ce4821",
   "metadata": {},
   "outputs": [
    {
     "name": "stdout",
     "output_type": "stream",
     "text": [
      "[1, 2, 3, 4, 10]\n"
     ]
    }
   ],
   "source": [
    "## Q7 : Write a code to append the number 10 to the list [1, 2, 3, 4]\n",
    "lst = [1,2,3,4]\n",
    "lst.append(10)\n",
    "print(lst)"
   ]
  },
  {
   "cell_type": "code",
   "execution_count": 37,
   "id": "0e1cd417",
   "metadata": {},
   "outputs": [
    {
     "name": "stdout",
     "output_type": "stream",
     "text": [
      "[1, 2, 4, 5]\n"
     ]
    }
   ],
   "source": [
    "## Q8 :  Write a code to remove the number 3 from the list [1, 2, 3, 4, 5]\n",
    "lst = [1,2,3,4,5]\n",
    "lst.remove(3)\n",
    "print(lst)"
   ]
  },
  {
   "cell_type": "code",
   "execution_count": 38,
   "id": "262ccd75",
   "metadata": {},
   "outputs": [
    {
     "name": "stdout",
     "output_type": "stream",
     "text": [
      "b\n"
     ]
    }
   ],
   "source": [
    "## Q9 : Write a code to access the second element in the list ['a', 'b', 'c', 'd']\n",
    "lst = ['a','b','c','d']\n",
    "print(lst[1])"
   ]
  },
  {
   "cell_type": "code",
   "execution_count": 2,
   "id": "b52d0864",
   "metadata": {},
   "outputs": [
    {
     "name": "stdout",
     "output_type": "stream",
     "text": [
      "[50, 40, 30, 20, 10]\n"
     ]
    }
   ],
   "source": [
    "##Q10: Write a code to reverse the list [10, 20, 30, 40, 50].\n",
    "lst = [10,20,30,40,50]\n",
    "print(lst[::-1])"
   ]
  },
  {
   "cell_type": "code",
   "execution_count": 3,
   "id": "9420fe62",
   "metadata": {},
   "outputs": [
    {
     "name": "stdout",
     "output_type": "stream",
     "text": [
      "(100, 200, 300)\n"
     ]
    }
   ],
   "source": [
    "##Q11 : Write a code to create a tuple with the elements 100, 200, 300 and print it.\n",
    "t = (100,200,300)\n",
    "print(t)"
   ]
  },
  {
   "cell_type": "code",
   "execution_count": 4,
   "id": "457d9afe",
   "metadata": {},
   "outputs": [
    {
     "name": "stdout",
     "output_type": "stream",
     "text": [
      "('green', 'blue', 'yellow')\n"
     ]
    }
   ],
   "source": [
    "## Q12: Write a code to access the second-to-last element of the tuple ('red', 'green', 'blue', 'yellow').\n",
    "t = (\"red\",\"green\",\"blue\",\"yellow\")\n",
    "print(t[1:])"
   ]
  },
  {
   "cell_type": "code",
   "execution_count": 5,
   "id": "1bc59b47",
   "metadata": {},
   "outputs": [
    {
     "name": "stdout",
     "output_type": "stream",
     "text": [
      "5\n"
     ]
    }
   ],
   "source": [
    "##Q13: Write a code to find the minimum number in the tuple (10, 20, 5, 15).\n",
    "t = (10,20,5,15)\n",
    "print(min(t))"
   ]
  },
  {
   "cell_type": "code",
   "execution_count": 7,
   "id": "8b5a5b07",
   "metadata": {},
   "outputs": [
    {
     "name": "stdout",
     "output_type": "stream",
     "text": [
      "1\n"
     ]
    }
   ],
   "source": [
    "##Q14:  Write a code to find the index of the element \"cat\" in the tuple ('dog', 'cat', 'rabbit')\n",
    "t = (\"dog\",\"cat\",\"rabbit\")\n",
    "print(t.index(\"cat\"))"
   ]
  },
  {
   "cell_type": "code",
   "execution_count": 9,
   "id": "cdfa58ca",
   "metadata": {},
   "outputs": [
    {
     "name": "stdout",
     "output_type": "stream",
     "text": [
      "True\n"
     ]
    }
   ],
   "source": [
    "## Q15 : Write a code to create a tuple containing three different fruits and check if \"kiwi\" is in it.\n",
    "fruits = (\"apple\",\"kiwi\",\"orange\")\n",
    "print(\"kiwi\" in fruits)"
   ]
  },
  {
   "cell_type": "code",
   "execution_count": 10,
   "id": "8715498a",
   "metadata": {},
   "outputs": [
    {
     "name": "stdout",
     "output_type": "stream",
     "text": [
      "{'b', 'c', 'a'}\n"
     ]
    }
   ],
   "source": [
    "##Q16 :Write a code to create a set with the elements 'a', 'b', 'c' and print it.\n",
    "s = {'a','b','c'}\n",
    "print(s)"
   ]
  },
  {
   "cell_type": "code",
   "execution_count": 14,
   "id": "e950cc6b",
   "metadata": {},
   "outputs": [
    {
     "name": "stdout",
     "output_type": "stream",
     "text": [
      "set()\n"
     ]
    }
   ],
   "source": [
    "##Q17: . Write a code to clear all elements from the set {1, 2, 3, 4, 5}.\n",
    "s = {1,2,3,4,5}\n",
    "s.clear()\n",
    "print(s)"
   ]
  },
  {
   "cell_type": "code",
   "execution_count": 15,
   "id": "9a34d06b",
   "metadata": {},
   "outputs": [
    {
     "name": "stdout",
     "output_type": "stream",
     "text": [
      "{1, 2, 3}\n"
     ]
    }
   ],
   "source": [
    "##Q18: . Write a code to remove the element 4 from the set {1, 2, 3, 4}.\n",
    "s = {1,2,3,4}\n",
    "s.remove(4)\n",
    "print(s)"
   ]
  },
  {
   "cell_type": "code",
   "execution_count": 16,
   "id": "b8a9230b",
   "metadata": {},
   "outputs": [
    {
     "data": {
      "text/plain": [
       "{1, 2, 3, 4, 5}"
      ]
     },
     "execution_count": 16,
     "metadata": {},
     "output_type": "execute_result"
    }
   ],
   "source": [
    "## Q19:  Write a code to find the union of two sets {1, 2, 3} and {3, 4, 5}.\n",
    "s1 = {1,2,3}\n",
    "s2 = {3,4,5}\n",
    "s1 | s2 ## union is denoted by (|) this symbol"
   ]
  },
  {
   "cell_type": "code",
   "execution_count": 17,
   "id": "16317492",
   "metadata": {},
   "outputs": [
    {
     "data": {
      "text/plain": [
       "{2, 3}"
      ]
     },
     "execution_count": 17,
     "metadata": {},
     "output_type": "execute_result"
    }
   ],
   "source": [
    "## Q20 :  Write a code to find the intersection of two sets {1, 2, 3} and {2, 3, 4}\n",
    "s3 = {1,2,3}\n",
    "s4 = {2,3,4}\n",
    "s3 & s4  ## intersection is denoted by (&) this symbol"
   ]
  },
  {
   "cell_type": "code",
   "execution_count": 19,
   "id": "2825319a",
   "metadata": {},
   "outputs": [
    {
     "name": "stdout",
     "output_type": "stream",
     "text": [
      "{'name': 'Rishabh', 'age': 23, 'city': 'Mumbai'}\n"
     ]
    }
   ],
   "source": [
    "## Q21 :  Write a code to create a dictionary with the keys \"name\", \"age\", and \"city\", and print it\n",
    "d = {\"name\": \"Rishabh\", \"age\": 23, \"city\": \"Mumbai\"}\n",
    "print(d)"
   ]
  },
  {
   "cell_type": "code",
   "execution_count": 23,
   "id": "6055d730",
   "metadata": {},
   "outputs": [
    {
     "name": "stdout",
     "output_type": "stream",
     "text": [
      "{'name': 'John', 'age': 25, 'country': 'USA'}\n"
     ]
    }
   ],
   "source": [
    "## Q22:  Write a code to add a new key-value pair \"country\": \"USA\" to the dictionary {'name': 'John', 'age': 25}\n",
    "d1 = {\"name\": \"John\", \"age\": 25}\n",
    "d1['country'] = \"USA\"\n",
    "print(d1)"
   ]
  },
  {
   "cell_type": "code",
   "execution_count": 25,
   "id": "ce08b900",
   "metadata": {},
   "outputs": [
    {
     "name": "stdout",
     "output_type": "stream",
     "text": [
      "Alice\n"
     ]
    }
   ],
   "source": [
    "## Q23 : Write a code to access the value associated with the key \"name\" in the dictionary {'name': 'Alice', 'age': 30}.\n",
    "d2 = {'name': 'Alice', 'age': 30}\n",
    "print(d2['name'])"
   ]
  },
  {
   "cell_type": "code",
   "execution_count": 34,
   "id": "555ba286",
   "metadata": {},
   "outputs": [
    {
     "name": "stdout",
     "output_type": "stream",
     "text": [
      "{'name': 'Bob', 'city': 'New York'}\n"
     ]
    }
   ],
   "source": [
    "## Q24 :  Write a code to remove the key \"age\" from the dictionary {'name': 'Bob', 'age': 22, 'city': 'New York'}.\n",
    "d3 = {'name': 'Bob', 'age': 22, 'city': 'New York'}\n",
    "del d3[\"age\"]\n",
    "print(d3)"
   ]
  },
  {
   "cell_type": "code",
   "execution_count": 35,
   "id": "5ba17e78",
   "metadata": {},
   "outputs": [
    {
     "name": "stdout",
     "output_type": "stream",
     "text": [
      "True\n"
     ]
    }
   ],
   "source": [
    "## Q25 :  Write a code to check if the key \"city\" exists in the dictionary {'name': 'Alice', 'city': 'Paris'}.\n",
    "d4 = {'name': 'Alice', 'city': 'Paris'}\n",
    "print(\"city\" in d4)"
   ]
  },
  {
   "cell_type": "code",
   "execution_count": 36,
   "id": "96d23122",
   "metadata": {},
   "outputs": [
    {
     "name": "stdout",
     "output_type": "stream",
     "text": [
      "[1, 2, 3, 4, 5] (1, 2, 3, 4, 5) {'name': 'Rishabh', 'age': 23}\n"
     ]
    }
   ],
   "source": [
    "## Q26: . Write a code to create a list, a tuple, and a dictionary, and print them all.\n",
    "l = [1,2,3,4,5]\n",
    "t = (1,2,3,4,5)\n",
    "d = {\"name\":\"Rishabh\", \"age\": 23}\n",
    "print(l,t,d)"
   ]
  },
  {
   "cell_type": "code",
   "execution_count": 96,
   "id": "ade95dc6",
   "metadata": {},
   "outputs": [
    {
     "name": "stdout",
     "output_type": "stream",
     "text": [
      "[17, 32, 35, 47, 51]\n"
     ]
    }
   ],
   "source": [
    "##27 : Write a code to create a list of 5 random numbers between 1 and 100, sort it in ascending order, and print the result(replaced)\n",
    "import random\n",
    "numbers = random.sample(range(1, 101), 5)\n",
    "numbers.sort()\n",
    "print(numbers)\n"
   ]
  },
  {
   "cell_type": "code",
   "execution_count": 97,
   "id": "38c8972b",
   "metadata": {},
   "outputs": [
    {
     "name": "stdout",
     "output_type": "stream",
     "text": [
      "kiwi\n"
     ]
    }
   ],
   "source": [
    "## Q28 : . Write a code to create a list with strings and print the element at the third index.\n",
    "lst = ['apple','banana','orange','kiwi']\n",
    "print(lst[3])"
   ]
  },
  {
   "cell_type": "code",
   "execution_count": 104,
   "id": "2601d250",
   "metadata": {},
   "outputs": [
    {
     "data": {
      "text/plain": [
       "{'name': 'rishabh', 'age': 23, 'country': 'india', 'state': 'maharashtra'}"
      ]
     },
     "execution_count": 104,
     "metadata": {},
     "output_type": "execute_result"
    }
   ],
   "source": [
    "##Q29 :  Write a code to combine two dictionaries into one and print the result\n",
    "d1 = {\"name\": \"rishabh\",\"age\": 23}\n",
    "d2 = {\"country\": \"india\", \"state\": \"maharashtra\"}\n",
    "d1.update(d2)\n",
    "d1"
   ]
  },
  {
   "cell_type": "code",
   "execution_count": 107,
   "id": "fd9fe8ef",
   "metadata": {},
   "outputs": [
    {
     "name": "stdout",
     "output_type": "stream",
     "text": [
      "{'kiwi', 'apple', 'banana'}\n"
     ]
    }
   ],
   "source": [
    "## Q30 : Write a code to convert a list of strings into a set.\n",
    "lst = [\"apple\",\"kiwi\", \"apple\",\"banana\"]\n",
    "result = set(lst)\n",
    "print(result)"
   ]
  }
 ],
 "metadata": {
  "kernelspec": {
   "display_name": "Python 3 (ipykernel)",
   "language": "python",
   "name": "python3"
  },
  "language_info": {
   "codemirror_mode": {
    "name": "ipython",
    "version": 3
   },
   "file_extension": ".py",
   "mimetype": "text/x-python",
   "name": "python",
   "nbconvert_exporter": "python",
   "pygments_lexer": "ipython3",
   "version": "3.9.13"
  }
 },
 "nbformat": 4,
 "nbformat_minor": 5
}
